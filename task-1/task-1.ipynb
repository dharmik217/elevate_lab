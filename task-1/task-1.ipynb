{
 "cells": [
  {
   "cell_type": "code",
   "execution_count": 1,
   "id": "476e18f0-c7d8-4bae-af62-3e66fa9f8898",
   "metadata": {},
   "outputs": [],
   "source": [
    "import pandas as pd\n",
    "import numpy as np\n",
    "from sklearn.model_selection import train_test_split\n",
    "from sklearn.impute import SimpleImputer\n",
    "from sklearn.preprocessing import StandardScaler, OneHotEncoder\n",
    "from sklearn.compose import ColumnTransformer\n",
    "from sklearn.pipeline import Pipeline\n",
    "import matplotlib.pyplot as plt\n",
    "import seaborn as sns"
   ]
  },
  {
   "cell_type": "code",
   "execution_count": 2,
   "id": "24bb5820-40ff-4836-8164-27e1b5643040",
   "metadata": {},
   "outputs": [
    {
     "name": "stdout",
     "output_type": "stream",
     "text": [
      "Libraries imported successfully.\n",
      "\n",
      "Dataset loaded successfully. Showing first 5 rows:\n",
      "   PassengerId  Survived  Pclass  \\\n",
      "0            1         0       3   \n",
      "1            2         1       1   \n",
      "2            3         1       3   \n",
      "3            4         1       1   \n",
      "4            5         0       3   \n",
      "\n",
      "                                                Name     Sex   Age  SibSp  \\\n",
      "0                            Braund, Mr. Owen Harris    male  22.0      1   \n",
      "1  Cumings, Mrs. John Bradley (Florence Briggs Th...  female  38.0      1   \n",
      "2                             Heikkinen, Miss. Laina  female  26.0      0   \n",
      "3       Futrelle, Mrs. Jacques Heath (Lily May Peel)  female  35.0      1   \n",
      "4                           Allen, Mr. William Henry    male  35.0      0   \n",
      "\n",
      "   Parch            Ticket     Fare Cabin Embarked  \n",
      "0      0         A/5 21171   7.2500   NaN        S  \n",
      "1      0          PC 17599  71.2833   C85        C  \n",
      "2      0  STON/O2. 3101282   7.9250   NaN        S  \n",
      "3      0            113803  53.1000  C123        S  \n",
      "4      0            373450   8.0500   NaN        S  \n"
     ]
    }
   ],
   "source": [
    "print(\"Libraries imported successfully.\")\n",
    "\n",
    "try:\n",
    "    df = pd.read_csv('Titanic-Dataset.csv')\n",
    "    print(\"\\nDataset loaded successfully. Showing first 5 rows:\")\n",
    "    print(df.head())\n",
    "except FileNotFoundError:\n",
    "    print(\"\\nError: 'titanic.csv' file not found. Please provide the correct file path.\")\n",
    "    exit()"
   ]
  },
  {
   "cell_type": "code",
   "execution_count": 3,
   "id": "4edcdd0e-838e-4cb8-8ac3-cb6bbcb27252",
   "metadata": {},
   "outputs": [
    {
     "name": "stdout",
     "output_type": "stream",
     "text": [
      "\n",
      "--- Step 1: Data Exploration ---\n",
      "\n",
      "Dataset Info:\n",
      "<class 'pandas.core.frame.DataFrame'>\n",
      "RangeIndex: 891 entries, 0 to 890\n",
      "Data columns (total 12 columns):\n",
      " #   Column       Non-Null Count  Dtype  \n",
      "---  ------       --------------  -----  \n",
      " 0   PassengerId  891 non-null    int64  \n",
      " 1   Survived     891 non-null    int64  \n",
      " 2   Pclass       891 non-null    int64  \n",
      " 3   Name         891 non-null    object \n",
      " 4   Sex          891 non-null    object \n",
      " 5   Age          714 non-null    float64\n",
      " 6   SibSp        891 non-null    int64  \n",
      " 7   Parch        891 non-null    int64  \n",
      " 8   Ticket       891 non-null    object \n",
      " 9   Fare         891 non-null    float64\n",
      " 10  Cabin        204 non-null    object \n",
      " 11  Embarked     889 non-null    object \n",
      "dtypes: float64(2), int64(5), object(5)\n",
      "memory usage: 83.7+ KB\n",
      "\n",
      "Missing values count:\n",
      "PassengerId      0\n",
      "Survived         0\n",
      "Pclass           0\n",
      "Name             0\n",
      "Sex              0\n",
      "Age            177\n",
      "SibSp            0\n",
      "Parch            0\n",
      "Ticket           0\n",
      "Fare             0\n",
      "Cabin          687\n",
      "Embarked         2\n",
      "dtype: int64\n"
     ]
    }
   ],
   "source": [
    "print(\"\\n--- Step 1: Data Exploration ---\")\n",
    "print(\"\\nDataset Info:\")\n",
    "df.info()\n",
    "\n",
    "print(\"\\nMissing values count:\")\n",
    "print(df.isnull().sum())"
   ]
  },
  {
   "cell_type": "code",
   "execution_count": 4,
   "id": "20ea92ac-b7b1-45ce-91f9-5b58220be048",
   "metadata": {},
   "outputs": [
    {
     "name": "stdout",
     "output_type": "stream",
     "text": [
      "\n",
      "--- Step 2: Handling Missing Values ---\n"
     ]
    }
   ],
   "source": [
    "print(\"\\n--- Step 2: Handling Missing Values ---\")\n",
    "numeric_features = ['Age', 'Fare']\n",
    "categorical_features = ['Embarked']\n",
    "\n",
    "df.drop(['Name', 'Ticket', 'Cabin'], axis=1, inplace=True)"
   ]
  },
  {
   "cell_type": "code",
   "execution_count": 5,
   "id": "04c20c01-764e-4955-ad67-edf214d77d08",
   "metadata": {},
   "outputs": [
    {
     "name": "stdout",
     "output_type": "stream",
     "text": [
      "\n",
      "--- Step 3: Encoding Categorical Features ---\n",
      "\n",
      "DataFrame after encoding:\n",
      "   PassengerId  Survived  Pclass   Age  SibSp  Parch     Fare  Sex_male  \\\n",
      "0            1         0       3  22.0      1      0   7.2500      True   \n",
      "1            2         1       1  38.0      1      0  71.2833     False   \n",
      "2            3         1       3  26.0      0      0   7.9250     False   \n",
      "3            4         1       1  35.0      1      0  53.1000     False   \n",
      "4            5         0       3  35.0      0      0   8.0500      True   \n",
      "\n",
      "   Embarked_Q  Embarked_S  \n",
      "0       False        True  \n",
      "1       False       False  \n",
      "2       False        True  \n",
      "3       False        True  \n",
      "4       False        True  \n",
      "\n",
      "DataFrame after imputation and scaling:\n",
      "   num__Age num__Fare remainder__PassengerId remainder__Survived  \\\n",
      "0 -0.565736 -0.502445                      1                   0   \n",
      "1  0.663861  0.786845                      2                   1   \n",
      "2 -0.258337 -0.488854                      3                   1   \n",
      "3  0.433312   0.42073                      4                   1   \n",
      "4  0.433312 -0.486337                      5                   0   \n",
      "\n",
      "  remainder__Pclass remainder__SibSp remainder__Parch remainder__Sex_male  \\\n",
      "0                 3                1                0                True   \n",
      "1                 1                1                0               False   \n",
      "2                 3                0                0               False   \n",
      "3                 1                1                0               False   \n",
      "4                 3                0                0                True   \n",
      "\n",
      "  remainder__Embarked_Q remainder__Embarked_S  \n",
      "0                 False                  True  \n",
      "1                 False                 False  \n",
      "2                 False                  True  \n",
      "3                 False                  True  \n",
      "4                 False                  True  \n"
     ]
    }
   ],
   "source": [
    "print(\"\\n--- Step 3: Encoding Categorical Features ---\")\n",
    "df = pd.get_dummies(df, columns=['Sex', 'Embarked'], drop_first=True)\n",
    "\n",
    "print(\"\\nDataFrame after encoding:\")\n",
    "print(df.head())\n",
    "\n",
    "numeric_features = ['Age', 'Fare']\n",
    "numeric_transformer = Pipeline(steps=[\n",
    "    ('imputer', SimpleImputer(strategy='median')),\n",
    "    ('scaler', StandardScaler())\n",
    "])\n",
    "\n",
    "preprocessor = ColumnTransformer(\n",
    "    transformers=[\n",
    "        ('num', numeric_transformer, numeric_features)\n",
    "    ],\n",
    "    remainder='passthrough'\n",
    ")\n",
    "df_preprocessed = preprocessor.fit_transform(df)\n",
    "df_preprocessed = pd.DataFrame(df_preprocessed, columns=preprocessor.get_feature_names_out())\n",
    "\n",
    "print(\"\\nDataFrame after imputation and scaling:\")\n",
    "print(df_preprocessed.head())"
   ]
  },
  {
   "cell_type": "code",
   "execution_count": 6,
   "id": "af816429-9045-4b43-8290-a4b368edb547",
   "metadata": {},
   "outputs": [
    {
     "name": "stdout",
     "output_type": "stream",
     "text": [
      "\n",
      "--- Step 4: Outlier Detection ---\n"
     ]
    },
    {
     "data": {
      "image/png": "[encoded data removed]",
      "text/plain": [
       "<Figure size 1000x600 with 1 Axes>"
      ]
     },
     "metadata": {},
     "output_type": "display_data"
    },
    {
     "name": "stdout",
     "output_type": "stream",
     "text": [
      "\n",
      "Original DataFrame shape: (891, 10)\n",
      "DataFrame shape after removing outliers: (871, 10)\n",
      "\n",
      "All preprocessing steps completed!\n"
     ]
    }
   ],
   "source": [
    "print(\"\\n--- Step 4: Outlier Detection ---\")\n",
    "plt.figure(figsize=(10, 6))\n",
    "sns.boxplot(x=df['Fare'])\n",
    "plt.title('Fare Outlier Detection')\n",
    "plt.show()\n",
    "\n",
    "def remove_outliers_zscore(df, column):\n",
    "    z_scores = (df[column] - df[column].mean()) / df[column].std()\n",
    "    return df[(np.abs(z_scores) < 3)] \n",
    "df_no_outliers = remove_outliers_zscore(df, 'Fare')\n",
    "\n",
    "print(f\"\\nOriginal DataFrame shape: {df.shape}\")\n",
    "print(f\"DataFrame shape after removing outliers: {df_no_outliers.shape}\")\n",
    "\n",
    "print(\"\\nAll preprocessing steps completed!\")"
   ]
  },
  {
   "cell_type": "code",
   "execution_count": null,
   "id": "d6c32f19-7eca-49d6-a688-055dfbea9c44",
   "metadata": {},
   "outputs": [],
   "source": []
  },
  {
   "cell_type": "code",
   "execution_count": null,
   "id": "95744f38-ae27-4272-a7c7-ef94671f3b94",
   "metadata": {},
   "outputs": [],
   "source": []
  }
 ],
 "metadata": {
  "kernelspec": {
   "display_name": "Python 3 (ipykernel)",
   "language": "python",
   "name": "python3"
  },
  "language_info": {
   "codemirror_mode": {
    "name": "ipython",
    "version": 3
   },
   "file_extension": ".py",
   "mimetype": "text/x-python",
   "name": "python",
   "nbconvert_exporter": "python",
   "pygments_lexer": "ipython3",
   "version": "3.11.8"
  }
 },
 "nbformat": 4,
 "nbformat_minor": 5
}
